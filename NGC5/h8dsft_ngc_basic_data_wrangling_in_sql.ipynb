{
 "cells": [
  {
   "cell_type": "markdown",
   "metadata": {},
   "source": [
    "-- Membuat Database\n",
    "Create Database \"NGC\";\n",
    "\n",
    "-- Membuat tabel Customer tanpa AUTO_INCREMENT\n",
    "CREATE TABLE \"Customer\" (\n",
    "    customer_id INT PRIMARY KEY,  -- harus memberikan nilai unik secara manual\n",
    "    name VARCHAR(255),\n",
    "    city VARCHAR(255)\n",
    ")\n",
    "-- Menambahkan data ke tabel Customer\n",
    "insert into \"Customer\" (customer_id, customer_name, city) VALUES (1,'John Doe', 'New York');\n",
    "insert into \"Customer\" (customer_id, customer_name, city) VALUES (2,'Jane Smith', 'Los Angeles');\n",
    "insert into \"Customer\" (customer_id, customer_name, city) values (3,'David Johnson', 'Chicago');\n",
    "\n",
    "--Membuat Table\n",
    "CREATE TABLE \"Orders\" (\n",
    "    order_id INT PRIMARY KEY,  -- Kunci utama, nilai harus diisi secara manual\n",
    "    customer_id INT,           -- Kunci asing yang merujuk ke tabel Customers\n",
    "    order_date DATE,\n",
    "    total_amount DECIMAL(10, 2),\n",
    "    FOREIGN KEY (customer_id) REFERENCES \"Customer\"(customer_id)\n",
    ");\n",
    "\n",
    "-- Menambahkan data untuk pesanan pertama\n",
    "INSERT INTO \"Orders\" (order_id, customer_id, order_date, total_amount)\n",
    "VALUES (1, 1, '2022-01-10', 100.00);\n",
    "\n",
    "-- Menambahkan data untuk pesanan kedua\n",
    "INSERT INTO \"Orders\" (order_id, customer_id, order_date, total_amount)\n",
    "VALUES (2, 1, '2022-02-15', 150.00);\n",
    "\n",
    "-- Menambahkan data untuk pesanan ketiga\n",
    "INSERT INTO \"Orders\" (order_id, customer_id, order_date, total_amount)\n",
    "VALUES (3, 2, '2022-03-20', 200.00);\n",
    "-- Menambahkan data untuk pesanan keempat\n",
    "\n",
    "INSERT INTO \"Orders\" (order_id, customer_id, order_date, total_amount)\n",
    "VALUES (4, 3, '2022-04-25', 50.00);\n",
    "\n",
    "//Menampilkan total orderan dari nama customer\n",
    "SELECT \n",
    "    \"Customer\".customer_name AS customer_name, \n",
    "    COUNT(\"Orders\".order_id) AS total_orders\n",
    "FROM \n",
    "    \"Customer\" \"Customer\"\n",
    "LEFT JOIN \n",
    "    \"Orders\" \"Orders\"\n",
    "ON \n",
    "    \"Customer\".customer_id = \"Orders\".customer_id\n",
    "GROUP BY \n",
    "    \"Customer\".customer_name;\n"
   ]
  },
  {
   "cell_type": "code",
   "execution_count": 1,
   "metadata": {},
   "outputs": [
    {
     "ename": "SyntaxError",
     "evalue": "invalid syntax (3269068998.py, line 1)",
     "output_type": "error",
     "traceback": [
      "\u001b[1;36m  Cell \u001b[1;32mIn[1], line 1\u001b[1;36m\u001b[0m\n\u001b[1;33m    import google.cloud import bigquery\u001b[0m\n\u001b[1;37m                        ^\u001b[0m\n\u001b[1;31mSyntaxError\u001b[0m\u001b[1;31m:\u001b[0m invalid syntax\n"
     ]
    }
   ],
   "source": []
  }
 ],
 "metadata": {
  "kernelspec": {
   "display_name": "Python 3",
   "language": "python",
   "name": "python3"
  },
  "language_info": {
   "codemirror_mode": {
    "name": "ipython",
    "version": 3
   },
   "file_extension": ".py",
   "mimetype": "text/x-python",
   "name": "python",
   "nbconvert_exporter": "python",
   "pygments_lexer": "ipython3",
   "version": "3.9.0"
  }
 },
 "nbformat": 4,
 "nbformat_minor": 2
}
