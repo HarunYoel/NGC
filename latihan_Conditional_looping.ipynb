{
 "cells": [
  {
   "cell_type": "markdown",
   "metadata": {},
   "source": [
    "latihan loop\n",
    "\n",
    "NGC2 \n",
    "Task #1 - Number of Word\n",
    "Create a function that count the number of word in a sentence.\n",
    "instruction:\n",
    "1.Create function called `number_of_word`.\n",
    "2.This function takes 1 input, `sentence`.\n",
    "3.Inside this function, you can utilize `.split()` method to split the sentence into list of word(s).\n",
    "4.Also, `len()` function to count the element inside a list.\n",
    "5.Return the number of word from the sentence.\n",
    "\n",
    "Example:\n",
    "-Input: number_of_word(sentence = ’Hello World!’)\n",
    "-Output: 2\n",
    "-Input: number_of_word(sentence = ’Once Upon a Time in a faraway land’)\n",
    "-Output: 8\n"
   ]
  },
  {
   "cell_type": "code",
   "execution_count": 2,
   "metadata": {},
   "outputs": [
    {
     "name": "stdout",
     "output_type": "stream",
     "text": [
      "2\n",
      "8\n"
     ]
    }
   ],
   "source": [
    "#1 jawab\n",
    "\n",
    "def number_of_word(a):\n",
    "    word = a.split()\n",
    "    return len(word)\n",
    "print(number_of_word('Harun Hutabarat'))\n",
    "print(number_of_word('Harun Hutabarat Adalah Seorang dengan Profesi Sebagai Apoteker'))"
   ]
  },
  {
   "cell_type": "markdown",
   "metadata": {},
   "source": [
    "Task #2 - Find Multiple\n",
    "Create a function that will get list of number(s) from a certain range that multiples of given number.\n",
    "Instruction:\n",
    "1.Create function called `find_multiples`.\n",
    "2.This function takes 3 input: `start_range`, `end_range`, and `multiple`.\n",
    "3.From every number within the given range, check if that number is the mutliples of `multiple`.\n",
    "4.Return list of the possible multiple number(s).\n",
    "\n",
    "Example:\n",
    "-Input: find_multiple(start_range= 1, end_range= 20, multiple= 5)\n",
    "-Output: [5, 10, 15, 20]\n",
    "-Input: find_multiple(start_range= 1, end_range= 50, multiple= 10)\n",
    "-Output: [10, 20, 30, 40, 50]5\n"
   ]
  },
  {
   "cell_type": "code",
   "execution_count": 25,
   "metadata": {},
   "outputs": [
    {
     "name": "stdout",
     "output_type": "stream",
     "text": [
      "[6, 9, 12, 15, 18, 21, 24, 27, 30, 33, 36, 39, 42, 45, 48]\n"
     ]
    }
   ],
   "source": [
    "# jawaban\n",
    "\n",
    "def find_multipes(a,b,c):\n",
    "    multiples = []\n",
    "    for angka in range(a,b+1):\n",
    "        if angka % c == 0:\n",
    "            multiples.append(angka)\n",
    "    return multiples\n",
    "print(find_multipes(5,50,3))\n"
   ]
  },
  {
   "cell_type": "markdown",
   "metadata": {},
   "source": []
  },
  {
   "cell_type": "code",
   "execution_count": 4,
   "metadata": {},
   "outputs": [
    {
     "name": "stdout",
     "output_type": "stream",
     "text": [
      "{'Harun': 'A', 'Ilham': 'B', 'Bayu': 'D'}\n",
      "{'Harun': 4.0, 'Ilham': 3.0, 'Bayu': 1.0}\n"
     ]
    }
   ],
   "source": [
    "#3\n",
    "\n",
    "def Grade_Converter(convert_to, **kwargs):\n",
    "    def score_to_letter_grade(score):\n",
    "        if 85 <= score<= 100:\n",
    "            return 'A'\n",
    "        elif 70 <= score <= 84.99:\n",
    "            return 'B'\n",
    "        elif 60 <= score <= 69.99:\n",
    "            return 'C'\n",
    "        elif 50 <= score <= 59.99:\n",
    "            return 'D'\n",
    "        elif 40 <= score <= 49.99:\n",
    "            return'E'\n",
    "        elif 0 <= score <= 39.99:\n",
    "            return 'F'\n",
    "        else:\n",
    "            return 'Invalid score'\n",
    "\n",
    "    def score_to_gpa(score):\n",
    "        if 85 <= score <= 100:\n",
    "            return 4.0\n",
    "        elif 70 <= score <= 84.99:\n",
    "            return 3.0\n",
    "        elif 60 <= score <= 69.99:\n",
    "            return 2.0\n",
    "        elif 50 <= score <= 59.99:\n",
    "            return 1.0\n",
    "        elif 40 <= score <= 49.99:\n",
    "            return 0.5\n",
    "        elif 0 <= score <= 39.99:\n",
    "            return 0.0\n",
    "        else:\n",
    "            return None\n",
    "    \n",
    "    result = {}\n",
    "\n",
    "    for student, score in kwargs.items():\n",
    "        if convert_to == 'letter_grade':\n",
    "            result[student] = score_to_letter_grade(score)\n",
    "        elif convert_to == 'gpa' :\n",
    "            result[student] = score_to_gpa(score)\n",
    "        else:\n",
    "            result[student] = 'Invalid conversion type'\n",
    "    return result\n",
    "\n",
    "grades = Grade_Converter('letter_grade', Harun=92, Ilham=76, Bayu=55)\n",
    "print(grades)\n",
    "\n",
    "gpa = Grade_Converter('gpa', Harun=92, Ilham=76, Bayu=55)\n",
    "print(gpa)\n",
    "\n",
    "\n"
   ]
  },
  {
   "cell_type": "code",
   "execution_count": 8,
   "metadata": {},
   "outputs": [
    {
     "name": "stdout",
     "output_type": "stream",
     "text": [
      "The 5-th Fibonacci number is: 5\n"
     ]
    }
   ],
   "source": [
    "#4\n",
    "while True:\n",
    "  try:\n",
    "    n = int(input(\"Enter the index of the Fibonacci number: \"))\n",
    "    break\n",
    "  except ValueError:\n",
    "    print(\"Invalid input. Please enter an integer.\")\n",
    "\n",
    "def fibonacci(n):\n",
    "  if n <= 0:\n",
    "    return 0\n",
    "  elif n == 1:\n",
    "    return 1\n",
    "  else:\n",
    "    return fibonacci(n - 1) + fibonacci(n - 2)\n",
    "\n",
    "result = fibonacci(n)\n",
    "print(f\"The {n}-th Fibonacci number is: {result}\")"
   ]
  },
  {
   "cell_type": "code",
   "execution_count": null,
   "metadata": {},
   "outputs": [],
   "source": []
  },
  {
   "cell_type": "code",
   "execution_count": null,
   "metadata": {},
   "outputs": [],
   "source": []
  }
 ],
 "metadata": {
  "kernelspec": {
   "display_name": "Python 3",
   "language": "python",
   "name": "python3"
  },
  "language_info": {
   "codemirror_mode": {
    "name": "ipython",
    "version": 3
   },
   "file_extension": ".py",
   "mimetype": "text/x-python",
   "name": "python",
   "nbconvert_exporter": "python",
   "pygments_lexer": "ipython3",
   "version": "3.9.0"
  }
 },
 "nbformat": 4,
 "nbformat_minor": 2
}
